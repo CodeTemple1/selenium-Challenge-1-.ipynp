{
 "cells": [
  {
   "cell_type": "markdown",
   "metadata": {},
   "source": [
    "# Selenium Challenge\n",
    "<p>Oh no! You need to scrape and work with some data on a website that you used to frequent. The developers stuck it behind a login screen! How are you going to work with that data now??? Time to throw away beautiful soup and break out selenium.</p>\n",
    "<p>Use selenium to bypass the login screen so that you can automate the process of answering the following 3 questions.</p>\n",
    "<p>Challenge URL: <a href=\"https://modest-jennings-77f32e.netlify.app/\">https://modest-jennings-77f32e.netlify.app/</a></p>\n",
    "<p>Your password: jZ3HF+}g</p>"
   ]
  },
  {
   "cell_type": "markdown",
   "metadata": {},
   "source": [
    "## Question 1\n",
    "<p>Find the player with the most MPG in the league</p>"
   ]
  },
  {
   "cell_type": "code",
   "execution_count": null,
   "metadata": {},
   "outputs": [],
   "source": [
    "Paul George\n",
    "Lac\n",
    "F\n",
    "31.22\n",
    "19\n",
    "40.9"
   ]
  },
  {
   "cell_type": "markdown",
   "metadata": {},
   "source": [
    "## Question 2\n",
    "<p>Please find the name of the oldest player on each team. Add them to a dictionary with each team's name being a key and the players name being the value.</p>"
   ]
  },
  {
   "cell_type": "code",
   "execution_count": null,
   "metadata": {},
   "outputs": [],
   "source": [
    "# Ex:\n",
    "oldest_players = {\n",
    "    \"Atl\": \"Lou Williams\",\n",
    "    \"Bos\": \"Tristan Thompson\",\n",
    "    # Etc for all teams\n",
    "}"
   ]
  },
  {
   "cell_type": "code",
   "execution_count": null,
   "metadata": {},
   "outputs": [],
   "source": [
    "Solomon Hill\n",
    "Atl\n",
    "F\n",
    "30.34\n",
    "Tristan Thompson\n",
    "Bos\n",
    "C-F\n",
    "30.36\n",
    "Mike James\n",
    "Bro\n",
    "G\n",
    "30.93"
   ]
  },
  {
   "cell_type": "markdown",
   "metadata": {},
   "source": [
    "## Question 3\n",
    "<p>Find the player with position F that had the least Games Played (GP) for each team, save as a dictionary. If there are multiple with the same GP, pick one.</p>"
   ]
  },
  {
   "cell_type": "code",
   "execution_count": null,
   "metadata": {},
   "outputs": [],
   "source": [
    "# Ex:\n",
    "most_played_center = {\n",
    "    \"Atl\": \"Solomon Hill\",\n",
    "    \"Bos\": \"Semi Ojeleye\",\n",
    "    # Etc for all teams\n",
    "}Reggie Perry\n",
    "Bro\n",
    "F-C\n",
    "21.33\n",
    "5\n",
    "4.4"
   ]
  }
 ],
 "metadata": {
  "kernelspec": {
   "display_name": "Python 3",
   "language": "python",
   "name": "python3"
  },
  "language_info": {
   "codemirror_mode": {
    "name": "ipython",
    "version": 3
   },
   "file_extension": ".py",
   "mimetype": "text/x-python",
   "name": "python",
   "nbconvert_exporter": "python",
   "pygments_lexer": "ipython3",
   "version": "3.8.8"
  }
 },
 "nbformat": 4,
 "nbformat_minor": 2
}
